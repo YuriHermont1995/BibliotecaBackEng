{
  "nbformat": 4,
  "nbformat_minor": 0,
  "metadata": {
    "colab": {
      "provenance": [],
      "authorship_tag": "ABX9TyNc0OZm1FZxMk1W6eJMjFMo",
      "include_colab_link": true
    },
    "kernelspec": {
      "name": "python3",
      "display_name": "Python 3"
    },
    "language_info": {
      "name": "python"
    }
  },
  "cells": [
    {
      "cell_type": "markdown",
      "metadata": {
        "id": "view-in-github",
        "colab_type": "text"
      },
      "source": [
        "<a href=\"https://colab.research.google.com/github/YuriHermont1995/BibliotecaBackEng/blob/main/Trabalho1CPA.ipynb\" target=\"_parent\"><img src=\"https://colab.research.google.com/assets/colab-badge.svg\" alt=\"Open In Colab\"/></a>"
      ]
    },
    {
      "cell_type": "markdown",
      "source": [
        "# EFC1 GCC253 - Complexidade e Projeto de Algoritmos - 5 pontos.\n",
        "Prof.: Douglas H. S. Abreu\n",
        "\n",
        "Alunos: \n",
        "\n",
        "Yuri de Souza Hermont\n",
        "\n",
        "Matriculas:\n",
        "\n",
        "Yuri:201820375\n",
        "\n",
        "Turma: 14A\n",
        "\n",
        "Link do repositório GitHub:\n",
        "\n",
        "● O trabalho deve ser feito em grupos de no máximo 4 componentes (Apenas um deve enviar a atividade no Campus Virtual)\n",
        "\n",
        "● Trabalhos entregues após a data limite não serão aceitos\n",
        "\n",
        "● Data limite de entrega: 20 de Novembro de 2022 : 23h55m\n",
        "\n",
        "● Enviar o trabalho para o campus virtual, do seguinte modo: link do repositório GitHub com acesso ao Notebook.\n",
        "\n",
        "● O trabalho deve ser desenvolvido no modelo Notebook utilizando preferencialmente a linguagem Python"
      ],
      "metadata": {
        "id": "dND1OfSXhQFw"
      }
    },
    {
      "cell_type": "code",
      "source": [],
      "metadata": {
        "id": "4-P5gtqYhwsM"
      },
      "execution_count": null,
      "outputs": []
    },
    {
      "cell_type": "markdown",
      "metadata": {
        "id": "J3d6JlRUxREN"
      },
      "source": [
        "# Importações e Variáveis globais"
      ]
    },
    {
      "cell_type": "code",
      "execution_count": 1,
      "metadata": {
        "id": "Ur1DVGQAxac4"
      },
      "outputs": [],
      "source": [
        "import numpy as np\n",
        "\n",
        "global_1=0"
      ]
    },
    {
      "cell_type": "code",
      "source": [],
      "metadata": {
        "id": "yk9dD0wyh0bK"
      },
      "execution_count": null,
      "outputs": []
    },
    {
      "cell_type": "markdown",
      "metadata": {
        "id": "kPNpzNYwkKAO"
      },
      "source": [
        "# Funções de Ordenação\n",
        "\n",
        "> Utilize este espaço para definir as funções de ordenação.\n",
        "\n"
      ]
    },
    {
      "cell_type": "markdown",
      "metadata": {
        "id": "nEw1UEsmoKMg"
      },
      "source": [
        "##  Insertion Sort\n"
      ]
    },
    {
      "cell_type": "code",
      "execution_count": 2,
      "metadata": {
        "id": "kbOrhdB-j_px"
      },
      "outputs": [],
      "source": [
        "def insertionSort(array):\n",
        "\n",
        "  for i in range(1,len(array)):\n",
        "    chave = array[i]\n",
        "\n",
        "    j=i-1;\n",
        "    while j>=0 and chave <array[j] :\n",
        "      array[j+1] = array[j]\n",
        "      j-=1\n",
        "\n",
        "    array[j+1]=chave\n",
        "\n",
        "  \n",
        "  return array"
      ]
    },
    {
      "cell_type": "markdown",
      "metadata": {
        "id": "9a-wJwU-wtmQ"
      },
      "source": [
        "##  Merge Sort\n"
      ]
    },
    {
      "cell_type": "code",
      "execution_count": 9,
      "metadata": {
        "id": "8cgIJ_4EwbPN"
      },
      "outputs": [],
      "source": [
        "from IPython.core.formatters import json\n",
        "def mergeSort(array):\n",
        "  if len(array) >1:\n",
        "    right = len(array)//2\n",
        "    left = array[:right]\n",
        "    meio = array[right:]\n",
        "\n",
        "    mergeSort(left)\n",
        "    mergeSort(meio)\n",
        "\n",
        "    i=j=k=0\n",
        "\n",
        "    while i<len(left) and j<len(meio):\n",
        "      if left[i]<meio[j]:\n",
        "        array[k] = left[i]\n",
        "        i+=1\n",
        "      else:\n",
        "        array[k] = meio[j]\n",
        "        j+=1\n",
        "      k +=1\n",
        "\n",
        "    while i<len(left):\n",
        "      array[k] = left[i]\n",
        "      i+=1\n",
        "      k+=1\n",
        "      \n",
        "    while j<len(meio):\n",
        "      array[k] = meio[j]\n",
        "      j+=1\n",
        "      k+=1\n",
        "\n",
        "\n",
        "  \n",
        "  return array"
      ]
    },
    {
      "cell_type": "markdown",
      "metadata": {
        "id": "8dWpeYUvw-wU"
      },
      "source": [
        "##  Selection Sort\n"
      ]
    },
    {
      "cell_type": "code",
      "execution_count": null,
      "metadata": {
        "id": "vNgUDShawygu"
      },
      "outputs": [],
      "source": [
        "def selectionSort():\n",
        "  \n",
        "  return"
      ]
    },
    {
      "cell_type": "markdown",
      "metadata": {
        "id": "zNI1kX0yyDrs"
      },
      "source": [
        "##  Bubble Sort\n"
      ]
    },
    {
      "cell_type": "code",
      "execution_count": null,
      "metadata": {
        "id": "6X_zk1yWxMQS"
      },
      "outputs": [],
      "source": [
        "def bubbleSort():\n",
        "  \n",
        "  return"
      ]
    },
    {
      "cell_type": "markdown",
      "metadata": {
        "id": "vk4vOTkKyLB-"
      },
      "source": [
        "## Heap Sort"
      ]
    },
    {
      "cell_type": "code",
      "execution_count": null,
      "metadata": {
        "id": "39a7xXzLyH9g"
      },
      "outputs": [],
      "source": [
        "def heapSort():\n",
        "  \n",
        "  return"
      ]
    },
    {
      "cell_type": "markdown",
      "metadata": {
        "id": "fFiGho5CyU3t"
      },
      "source": [
        "## Quick Sort com pivo sendo o ultimo elemento do arranjo\n",
        "\n",
        "> pivo = *A[A-comprimento]*"
      ]
    },
    {
      "cell_type": "code",
      "execution_count": null,
      "metadata": {
        "id": "1Ie_N5CRyKY7"
      },
      "outputs": [],
      "source": [
        "def quickSort():\n",
        "  \n",
        "  return"
      ]
    },
    {
      "cell_type": "code",
      "execution_count": null,
      "metadata": {
        "id": "aMLRh7KLhN3h"
      },
      "outputs": [],
      "source": []
    },
    {
      "cell_type": "markdown",
      "metadata": {
        "id": "VomdAnCrzEv1"
      },
      "source": [
        "# Questões"
      ]
    },
    {
      "cell_type": "markdown",
      "metadata": {
        "id": "3QKV979kzItD"
      },
      "source": [
        "\n",
        "\n",
        "1.   Escolha pelo menos 3 arranjos. Ex: ***A[5,...,1000,...,100]*** e mostre o funcionamento dos Algoritmos realizando a ordenação.\n",
        "\n",
        "\n",
        "\n"
      ]
    },
    {
      "cell_type": "code",
      "source": [
        "arranjo1 = [10,11,2,300,100,130,20,50,3]\n",
        "\n",
        "print(insertionSort(arranjo1))\n"
      ],
      "metadata": {
        "colab": {
          "base_uri": "https://localhost:8080/"
        },
        "id": "AioPSbvljVEw",
        "outputId": "2112ef50-54bb-4a86-8c34-48b605fa7a54"
      },
      "execution_count": 6,
      "outputs": [
        {
          "output_type": "stream",
          "name": "stdout",
          "text": [
            "[2, 3, 10, 11, 20, 50, 100, 130, 300]\n"
          ]
        }
      ]
    },
    {
      "cell_type": "code",
      "source": [
        "arranjo1 = [10,11,2,300,100,130,20,50,3]\n",
        "\n",
        "print(mergeSort(arranjo1))"
      ],
      "metadata": {
        "colab": {
          "base_uri": "https://localhost:8080/"
        },
        "id": "LWzcyCpXmuRT",
        "outputId": "b568ecb6-0ffb-4683-b145-09fae728a062"
      },
      "execution_count": 10,
      "outputs": [
        {
          "output_type": "stream",
          "name": "stdout",
          "text": [
            "[2, 3, 10, 11, 20, 50, 100, 130, 300]\n"
          ]
        }
      ]
    },
    {
      "cell_type": "code",
      "execution_count": null,
      "metadata": {
        "colab": {
          "base_uri": "https://localhost:8080/"
        },
        "id": "nBfs279_1Vko",
        "outputId": "6a6e86cf-5b1e-4176-a1a5-93bfb4ded319"
      },
      "outputs": [
        {
          "name": "stdout",
          "output_type": "stream",
          "text": [
            "Boa sorte!!!\n"
          ]
        }
      ],
      "source": [
        "print(\"Boa sorte!!!\")"
      ]
    }
  ]
}